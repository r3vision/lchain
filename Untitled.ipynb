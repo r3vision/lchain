{
 "cells": [
  {
   "cell_type": "code",
   "execution_count": 2,
   "id": "608a32bf-a351-4170-85f2-1dd64abc3fac",
   "metadata": {},
   "outputs": [
    {
     "name": "stdout",
     "output_type": "stream",
     "text": [
      "Collecting openai==1.30.1\n",
      "  Downloading openai-1.30.1-py3-none-any.whl.metadata (21 kB)\n",
      "Requirement already satisfied: anyio<5,>=3.5.0 in ./lchain/lib/python3.12/site-packages (from openai==1.30.1) (4.2.0)\n",
      "Requirement already satisfied: distro<2,>=1.7.0 in ./lchain/lib/python3.12/site-packages (from openai==1.30.1) (1.9.0)\n",
      "Requirement already satisfied: httpx<1,>=0.23.0 in ./lchain/lib/python3.12/site-packages (from openai==1.30.1) (0.26.0)\n",
      "Requirement already satisfied: pydantic<3,>=1.9.0 in ./lchain/lib/python3.12/site-packages (from openai==1.30.1) (2.5.3)\n",
      "Requirement already satisfied: sniffio in ./lchain/lib/python3.12/site-packages (from openai==1.30.1) (1.3.0)\n",
      "Requirement already satisfied: tqdm>4 in ./lchain/lib/python3.12/site-packages (from openai==1.30.1) (4.66.1)\n",
      "Requirement already satisfied: typing-extensions<5,>=4.7 in ./lchain/lib/python3.12/site-packages (from openai==1.30.1) (4.9.0)\n",
      "Requirement already satisfied: idna>=2.8 in ./lchain/lib/python3.12/site-packages (from anyio<5,>=3.5.0->openai==1.30.1) (3.6)\n",
      "Requirement already satisfied: certifi in ./lchain/lib/python3.12/site-packages (from httpx<1,>=0.23.0->openai==1.30.1) (2023.11.17)\n",
      "Requirement already satisfied: httpcore==1.* in ./lchain/lib/python3.12/site-packages (from httpx<1,>=0.23.0->openai==1.30.1) (1.0.2)\n",
      "Requirement already satisfied: h11<0.15,>=0.13 in ./lchain/lib/python3.12/site-packages (from httpcore==1.*->httpx<1,>=0.23.0->openai==1.30.1) (0.14.0)\n",
      "Requirement already satisfied: annotated-types>=0.4.0 in ./lchain/lib/python3.12/site-packages (from pydantic<3,>=1.9.0->openai==1.30.1) (0.6.0)\n",
      "Requirement already satisfied: pydantic-core==2.14.6 in ./lchain/lib/python3.12/site-packages (from pydantic<3,>=1.9.0->openai==1.30.1) (2.14.6)\n",
      "Downloading openai-1.30.1-py3-none-any.whl (320 kB)\n",
      "\u001b[2K   \u001b[90m━━━━━━━━━━━━━━━━━━━━━━━━━━━━━━━━━━━━━━━━\u001b[0m \u001b[32m320.6/320.6 kB\u001b[0m \u001b[31m3.6 MB/s\u001b[0m eta \u001b[36m0:00:00\u001b[0m00:01\u001b[0m00:01\u001b[0mm\n",
      "\u001b[?25hInstalling collected packages: openai\n",
      "  Attempting uninstall: openai\n",
      "    Found existing installation: openai 0.27.8\n",
      "    Uninstalling openai-0.27.8:\n",
      "      Successfully uninstalled openai-0.27.8\n",
      "Successfully installed openai-1.30.1\n",
      "\n",
      "\u001b[1m[\u001b[0m\u001b[34;49mnotice\u001b[0m\u001b[1;39;49m]\u001b[0m\u001b[39;49m A new release of pip is available: \u001b[0m\u001b[31;49m24.0\u001b[0m\u001b[39;49m -> \u001b[0m\u001b[32;49m24.1.1\u001b[0m\n",
      "\u001b[1m[\u001b[0m\u001b[34;49mnotice\u001b[0m\u001b[1;39;49m]\u001b[0m\u001b[39;49m To update, run: \u001b[0m\u001b[32;49mpip install --upgrade pip\u001b[0m\n"
     ]
    }
   ],
   "source": [
    "!pip install openai==1.30.1"
   ]
  },
  {
   "cell_type": "code",
   "execution_count": 3,
   "id": "b43e6f4a-012d-4b6d-9919-9e1c71c8aa59",
   "metadata": {},
   "outputs": [
    {
     "name": "stdout",
     "output_type": "stream",
     "text": [
      "Collecting langgraph==0.0.53\n",
      "  Downloading langgraph-0.0.53-py3-none-any.whl.metadata (23 kB)\n",
      "Collecting langchain-core<0.3,>=0.2 (from langgraph==0.0.53)\n",
      "  Downloading langchain_core-0.2.10-py3-none-any.whl.metadata (6.0 kB)\n",
      "Collecting uuid6<2025.0.0,>=2024.1.12 (from langgraph==0.0.53)\n",
      "  Downloading uuid6-2024.1.12-py3-none-any.whl.metadata (8.6 kB)\n",
      "Requirement already satisfied: PyYAML>=5.3 in ./lchain/lib/python3.12/site-packages (from langchain-core<0.3,>=0.2->langgraph==0.0.53) (6.0.1)\n",
      "Requirement already satisfied: jsonpatch<2.0,>=1.33 in ./lchain/lib/python3.12/site-packages (from langchain-core<0.3,>=0.2->langgraph==0.0.53) (1.33)\n",
      "Collecting langsmith<0.2.0,>=0.1.75 (from langchain-core<0.3,>=0.2->langgraph==0.0.53)\n",
      "  Downloading langsmith-0.1.82-py3-none-any.whl.metadata (13 kB)\n",
      "Requirement already satisfied: packaging<25,>=23.2 in ./lchain/lib/python3.12/site-packages (from langchain-core<0.3,>=0.2->langgraph==0.0.53) (23.2)\n",
      "Requirement already satisfied: pydantic<3,>=1 in ./lchain/lib/python3.12/site-packages (from langchain-core<0.3,>=0.2->langgraph==0.0.53) (2.5.3)\n",
      "Requirement already satisfied: tenacity!=8.4.0,<9.0.0,>=8.1.0 in ./lchain/lib/python3.12/site-packages (from langchain-core<0.3,>=0.2->langgraph==0.0.53) (8.2.3)\n",
      "Requirement already satisfied: jsonpointer>=1.9 in ./lchain/lib/python3.12/site-packages (from jsonpatch<2.0,>=1.33->langchain-core<0.3,>=0.2->langgraph==0.0.53) (2.4)\n",
      "Collecting orjson<4.0.0,>=3.9.14 (from langsmith<0.2.0,>=0.1.75->langchain-core<0.3,>=0.2->langgraph==0.0.53)\n",
      "  Downloading orjson-3.10.5-cp312-cp312-macosx_10_15_x86_64.macosx_11_0_arm64.macosx_10_15_universal2.whl.metadata (49 kB)\n",
      "\u001b[2K     \u001b[90m━━━━━━━━━━━━━━━━━━━━━━━━━━━━━━━━━━━━━━━\u001b[0m \u001b[32m49.7/49.7 kB\u001b[0m \u001b[31m841.5 kB/s\u001b[0m eta \u001b[36m0:00:00\u001b[0ma \u001b[36m0:00:01\u001b[0m\n",
      "\u001b[?25hRequirement already satisfied: requests<3,>=2 in ./lchain/lib/python3.12/site-packages (from langsmith<0.2.0,>=0.1.75->langchain-core<0.3,>=0.2->langgraph==0.0.53) (2.31.0)\n",
      "Requirement already satisfied: annotated-types>=0.4.0 in ./lchain/lib/python3.12/site-packages (from pydantic<3,>=1->langchain-core<0.3,>=0.2->langgraph==0.0.53) (0.6.0)\n",
      "Requirement already satisfied: pydantic-core==2.14.6 in ./lchain/lib/python3.12/site-packages (from pydantic<3,>=1->langchain-core<0.3,>=0.2->langgraph==0.0.53) (2.14.6)\n",
      "Requirement already satisfied: typing-extensions>=4.6.1 in ./lchain/lib/python3.12/site-packages (from pydantic<3,>=1->langchain-core<0.3,>=0.2->langgraph==0.0.53) (4.9.0)\n",
      "Requirement already satisfied: charset-normalizer<4,>=2 in ./lchain/lib/python3.12/site-packages (from requests<3,>=2->langsmith<0.2.0,>=0.1.75->langchain-core<0.3,>=0.2->langgraph==0.0.53) (3.3.2)\n",
      "Requirement already satisfied: idna<4,>=2.5 in ./lchain/lib/python3.12/site-packages (from requests<3,>=2->langsmith<0.2.0,>=0.1.75->langchain-core<0.3,>=0.2->langgraph==0.0.53) (3.6)\n",
      "Requirement already satisfied: urllib3<3,>=1.21.1 in ./lchain/lib/python3.12/site-packages (from requests<3,>=2->langsmith<0.2.0,>=0.1.75->langchain-core<0.3,>=0.2->langgraph==0.0.53) (2.1.0)\n",
      "Requirement already satisfied: certifi>=2017.4.17 in ./lchain/lib/python3.12/site-packages (from requests<3,>=2->langsmith<0.2.0,>=0.1.75->langchain-core<0.3,>=0.2->langgraph==0.0.53) (2023.11.17)\n",
      "Downloading langgraph-0.0.53-py3-none-any.whl (83 kB)\n",
      "\u001b[2K   \u001b[90m━━━━━━━━━━━━━━━━━━━━━━━━━━━━━━━━━━━━━━━━\u001b[0m \u001b[32m83.8/83.8 kB\u001b[0m \u001b[31m5.5 MB/s\u001b[0m eta \u001b[36m0:00:00\u001b[0m\n",
      "\u001b[?25hDownloading langchain_core-0.2.10-py3-none-any.whl (332 kB)\n",
      "\u001b[2K   \u001b[90m━━━━━━━━━━━━━━━━━━━━━━━━━━━━━━━━━━━━━━━━\u001b[0m \u001b[32m332.8/332.8 kB\u001b[0m \u001b[31m4.5 MB/s\u001b[0m eta \u001b[36m0:00:00\u001b[0ma \u001b[36m0:00:01\u001b[0m\n",
      "\u001b[?25hDownloading uuid6-2024.1.12-py3-none-any.whl (6.4 kB)\n",
      "Downloading langsmith-0.1.82-py3-none-any.whl (127 kB)\n",
      "\u001b[2K   \u001b[90m━━━━━━━━━━━━━━━━━━━━━━━━━━━━━━━━━━━━━━━━\u001b[0m \u001b[32m127.4/127.4 kB\u001b[0m \u001b[31m2.6 MB/s\u001b[0m eta \u001b[36m0:00:00\u001b[0ma \u001b[36m0:00:01\u001b[0m\n",
      "\u001b[?25hDownloading orjson-3.10.5-cp312-cp312-macosx_10_15_x86_64.macosx_11_0_arm64.macosx_10_15_universal2.whl (258 kB)\n",
      "\u001b[2K   \u001b[90m━━━━━━━━━━━━━━━━━━━━━━━━━━━━━━━━━━━━━━━━\u001b[0m \u001b[32m258.9/258.9 kB\u001b[0m \u001b[31m4.3 MB/s\u001b[0m eta \u001b[36m0:00:00\u001b[0m \u001b[36m0:00:01\u001b[0m\n",
      "\u001b[?25hInstalling collected packages: uuid6, orjson, langsmith, langchain-core, langgraph\n",
      "  Attempting uninstall: langsmith\n",
      "    Found existing installation: langsmith 0.0.78\n",
      "    Uninstalling langsmith-0.0.78:\n",
      "      Successfully uninstalled langsmith-0.0.78\n",
      "  Attempting uninstall: langchain-core\n",
      "    Found existing installation: langchain-core 0.1.8\n",
      "    Uninstalling langchain-core-0.1.8:\n",
      "      Successfully uninstalled langchain-core-0.1.8\n",
      "\u001b[31mERROR: pip's dependency resolver does not currently take into account all the packages that are installed. This behaviour is the source of the following dependency conflicts.\n",
      "langchain-community 0.0.10 requires langchain-core<0.2,>=0.1.8, but you have langchain-core 0.2.10 which is incompatible.\n",
      "langchain-community 0.0.10 requires langsmith<0.1.0,>=0.0.63, but you have langsmith 0.1.82 which is incompatible.\n",
      "langchain 0.0.352 requires langchain-core<0.2,>=0.1, but you have langchain-core 0.2.10 which is incompatible.\n",
      "langchain 0.0.352 requires langsmith<0.1.0,>=0.0.70, but you have langsmith 0.1.82 which is incompatible.\u001b[0m\u001b[31m\n",
      "\u001b[0mSuccessfully installed langchain-core-0.2.10 langgraph-0.0.53 langsmith-0.1.82 orjson-3.10.5 uuid6-2024.1.12\n",
      "\n",
      "\u001b[1m[\u001b[0m\u001b[34;49mnotice\u001b[0m\u001b[1;39;49m]\u001b[0m\u001b[39;49m A new release of pip is available: \u001b[0m\u001b[31;49m24.0\u001b[0m\u001b[39;49m -> \u001b[0m\u001b[32;49m24.1.1\u001b[0m\n",
      "\u001b[1m[\u001b[0m\u001b[34;49mnotice\u001b[0m\u001b[1;39;49m]\u001b[0m\u001b[39;49m To update, run: \u001b[0m\u001b[32;49mpip install --upgrade pip\u001b[0m\n"
     ]
    }
   ],
   "source": [
    "!pip install langgraph==0.0.53"
   ]
  },
  {
   "cell_type": "code",
   "execution_count": 7,
   "id": "08b730df-c837-4876-b40c-d33c427850ab",
   "metadata": {},
   "outputs": [
    {
     "ename": "ImportError",
     "evalue": "cannot import name 'OpenAI' from 'openai' (/Users/rishiranjan/py-project/udemy-lchain/lchain/lib/python3.12/site-packages/openai/__init__.py)",
     "output_type": "error",
     "traceback": [
      "\u001b[0;31m---------------------------------------------------------------------------\u001b[0m",
      "\u001b[0;31mImportError\u001b[0m                               Traceback (most recent call last)",
      "Cell \u001b[0;32mIn[7], line 8\u001b[0m\n\u001b[1;32m      5\u001b[0m \u001b[38;5;28;01mfrom\u001b[39;00m \u001b[38;5;21;01mdotenv\u001b[39;00m \u001b[38;5;28;01mimport\u001b[39;00m load_dotenv\n\u001b[1;32m      7\u001b[0m load_dotenv()\n\u001b[0;32m----> 8\u001b[0m \u001b[38;5;28;01mfrom\u001b[39;00m \u001b[38;5;21;01mopenai\u001b[39;00m \u001b[38;5;28;01mimport\u001b[39;00m OpenAI\n",
      "\u001b[0;31mImportError\u001b[0m: cannot import name 'OpenAI' from 'openai' (/Users/rishiranjan/py-project/udemy-lchain/lchain/lib/python3.12/site-packages/openai/__init__.py)"
     ]
    }
   ],
   "source": [
    "import openai\n",
    "import re\n",
    "import httpx\n",
    "import os\n",
    "from dotenv import load_dotenv\n",
    "\n",
    "load_dotenv()\n",
    "from openai import OpenAI"
   ]
  },
  {
   "cell_type": "code",
   "execution_count": null,
   "id": "3daf5898-b640-4de9-b010-c60d3602cf23",
   "metadata": {},
   "outputs": [],
   "source": []
  }
 ],
 "metadata": {
  "kernelspec": {
   "display_name": "Python 3 (ipykernel)",
   "language": "python",
   "name": "python3"
  },
  "language_info": {
   "codemirror_mode": {
    "name": "ipython",
    "version": 3
   },
   "file_extension": ".py",
   "mimetype": "text/x-python",
   "name": "python",
   "nbconvert_exporter": "python",
   "pygments_lexer": "ipython3",
   "version": "3.12.2"
  }
 },
 "nbformat": 4,
 "nbformat_minor": 5
}
