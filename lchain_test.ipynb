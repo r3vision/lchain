{
 "cells": [
  {
   "cell_type": "code",
   "execution_count": 48,
   "id": "582bb32f-211a-41e7-bc12-3fa2ce709b49",
   "metadata": {},
   "outputs": [],
   "source": [
    "from dotenv import load_dotenv\n",
    "import os\n",
    "from langchain.llms import OpenAI\n"
   ]
  },
  {
   "cell_type": "code",
   "execution_count": 49,
   "id": "34c2cbe0-4354-4149-b1b0-e552b1960bd1",
   "metadata": {},
   "outputs": [],
   "source": [
    "load_dotenv()\n",
    "api_key = os.getenv(\"openai_api_key\")"
   ]
  },
  {
   "cell_type": "code",
   "execution_count": 50,
   "id": "e9166e95-f712-47df-ad41-a5fb9a20bb5f",
   "metadata": {},
   "outputs": [],
   "source": [
    "llm=OpenAI(openai_api_key=api_key)"
   ]
  },
  {
   "cell_type": "code",
   "execution_count": 51,
   "id": "e0bfe4ff-8e02-4742-8026-607803ba74ae",
   "metadata": {},
   "outputs": [],
   "source": [
    "response = llm('Write a small poem' )"
   ]
  },
  {
   "cell_type": "code",
   "execution_count": 52,
   "id": "c315490e-141f-473f-ba16-a283fd73756a",
   "metadata": {},
   "outputs": [
    {
     "name": "stdout",
     "output_type": "stream",
     "text": [
      "\n",
      "\n",
      "In the morning light,\n",
      "The birds take flight,\n",
      "Their songs so sweet,\n",
      "A symphony complete.\n",
      "\n",
      "The sun rises high,\n",
      "In the bright blue sky,\n",
      "A new day begins,\n",
      "With endless possibilities within.\n",
      "\n",
      "The flowers bloom,\n",
      "Their colors in full bloom,\n",
      "Nature's art,\n",
      "A masterpiece from the start.\n",
      "\n",
      "As I breathe in the air,\n",
      "I can't help but stare,\n",
      "At the beauty around,\n",
      "A peacefulness I have found.\n",
      "\n",
      "In this moment so small,\n",
      "I feel grateful for it all,\n",
      "For life's simple charms,\n",
      "In a world that's filled with alarms.\n",
      "\n",
      "So let us pause,\n",
      "And give a round of applause,\n",
      "For each day that we wake,\n",
      "Is a chance for love to make.\n"
     ]
    }
   ],
   "source": [
    "print(response)"
   ]
  },
  {
   "cell_type": "code",
   "execution_count": null,
   "id": "7822c42c-828d-4701-819c-37e95140ce11",
   "metadata": {},
   "outputs": [],
   "source": []
  }
 ],
 "metadata": {
  "kernelspec": {
   "display_name": "Python 3 (ipykernel)",
   "language": "python",
   "name": "python3"
  },
  "language_info": {
   "codemirror_mode": {
    "name": "ipython",
    "version": 3
   },
   "file_extension": ".py",
   "mimetype": "text/x-python",
   "name": "python",
   "nbconvert_exporter": "python",
   "pygments_lexer": "ipython3",
   "version": "3.12.2"
  }
 },
 "nbformat": 4,
 "nbformat_minor": 5
}
